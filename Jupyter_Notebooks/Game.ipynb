# Flappy Bird Game

# Flappy Bird Game

### Imports 

from pynq import Overlay, Xlnk
from pynq.overlays.base import BaseOverlay
from PIL import Image
from pynq import MMIO
from pynq.lib.video import *

allocator = Xlnk()

overlay = BaseOverlay("game.bit")


from pynq.lib.arduino import Arduino_IO

out1 = Arduino_IO(overlay.ARDUINO, 7, 'out')

out1.write(0)
out1.write(1)

### HDMI

hdmi_in = overlay.video.hdmi_in
hdmi_out = overlay.video.hdmi_out

hdmi_in.configure(PIXEL_RGBA)
hdmi_out.configure(hdmi_in.mode, PIXEL_RGBA)

hdmi_in.start()
hdmi_out.start()

hdmi_in.tie(hdmi_out)

flappy_bird = MMIO(0x83C20000,0x10000)

import sys
import time
import cv2
import random

while True:
    font                   = cv2.FONT_HERSHEY_SIMPLEX
    fontScale              = 2
    fontColor              = (255,255,255)
    lineType               = 2
    pos = 940

    flap = False
    rise = False

    height = 1
    previous_height = height

    color_tresh = 27
    heigth_tresh = 10

    bird = 600
    speed = -1

    pipe = 3000
    hole = 100

    gap = 300
    pipe_h = 70

    score = 0

    frames = 0

    gameover = False

    start = time.time()

    while not gameover:

        frames += 1

        in_frame = hdmi_in.readframe()

        flappy_bird.write(0x10, in_frame.physical_address)

        flappy_bird.write(0x20, color_tresh)    

        flappy_bird.write(0x00, 0x01)             # ap_start triggering
        while (flappy_bird.read(0) & 0x4) == 0:   # ap_done checking
            pass

        height = flappy_bird.read(0x18)

        if (previous_height - height >= heigth_tresh):
            rise = True

        if (height - previous_height >= heigth_tresh) & rise:
            rise = False
            flap = True


        previous_height = height

        speed -= 3
        if flap:
            speed = 23
            flap = False


        bird -= speed
        bird = min(bird, 600)
        cv2.rectangle(in_frame,(800,bird),(820,bird+20),(255,255,0),-1)

        pipe = pipe - 19
        if pipe < 700:
            pipe = 1500
            hole = random.randint(1,20)*10

        cv2.rectangle(in_frame,(pipe+pipe_h,hole),(pipe,-1),(0,255,0),-1)
        cv2.rectangle(in_frame,(pipe+pipe_h,hole+gap),(pipe,721),(0,255,0),-1)
        cv2.rectangle(in_frame,(1280,721),(640, 622),(165,42,42),-1)

        if pipe + pipe_h < 780:
            score += 1
            pos = 940 - (len(str(score))-2)*21

        if (bird < hole or bird > hole + gap) and (pipe < 820 and pipe > 820 - pipe_h):
            gameover = True
            cv2.putText(in_frame,'Game Over', (800, 300), font, fontScale, fontColor,lineType)


        cv2.putText(in_frame,f"{score}", (pos,100), font, fontScale, fontColor,lineType)

        hdmi_out.writeframe(in_frame)


    end = time.time()

    print(f"{frames} frames took {end-start} seconds at {frames/(end-start)} fps")
    
    time.sleep(3)



hdmi_out.close()
hdmi_in.close()

