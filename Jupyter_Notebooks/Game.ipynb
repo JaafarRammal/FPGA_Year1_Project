{
 "cells": [
  {
   "cell_type": "markdown",
   "metadata": {},
   "source": [
    "# Flappy Bird Game"
   ]
  },
  {
   "cell_type": "markdown",
   "metadata": {},
   "source": [
    "## 1 Overlay "
   ]
  },
  {
   "cell_type": "markdown",
   "metadata": {},
   "source": [
    "### 1-1 Imports"
   ]
  },
  {
   "cell_type": "code",
   "execution_count": null,
   "metadata": {},
   "outputs": [],
   "source": [
    "from pynq import Overlay, Xlnk\n",
    "from pynq.overlays.base import BaseOverlay\n",
    "from PIL import Image\n",
    "from pynq import MMIO\n",
    "from pynq.lib.video import *\n",
    "\n",
    "allocator = Xlnk()\n",
    "\n",
    "overlay = BaseOverlay(\"game.bit\")"
   ]
  },
  {
   "cell_type": "markdown",
   "metadata": {},
   "source": [
    "### 1-2 Arduino Test (Unused)"
   ]
  },
  {
   "cell_type": "code",
   "execution_count": null,
   "metadata": {},
   "outputs": [],
   "source": [
    "from pynq.lib.arduino import Arduino_IO\n",
    "\n",
    "out1 = Arduino_IO(overlay.ARDUINO, 7, 'out')"
   ]
  },
  {
   "cell_type": "code",
   "execution_count": null,
   "metadata": {},
   "outputs": [],
   "source": [
    "out1.write(0)\n",
    "out1.write(1)"
   ]
  },
  {
   "cell_type": "markdown",
   "metadata": {},
   "source": [
    "### 1-3 HDMI"
   ]
  },
  {
   "cell_type": "code",
   "execution_count": null,
   "metadata": {},
   "outputs": [],
   "source": [
    "hdmi_in = overlay.video.hdmi_in\n",
    "hdmi_out = overlay.video.hdmi_out\n",
    "\n",
    "hdmi_in.configure(PIXEL_RGBA)\n",
    "hdmi_out.configure(hdmi_in.mode, PIXEL_RGBA)"
   ]
  },
  {
   "cell_type": "code",
   "execution_count": null,
   "metadata": {},
   "outputs": [],
   "source": [
    "hdmi_in.start()\n",
    "hdmi_out.start()"
   ]
  },
  {
   "cell_type": "code",
   "execution_count": null,
   "metadata": {},
   "outputs": [],
   "source": [
    "hdmi_in.tie(hdmi_out)"
   ]
  },
  {
   "cell_type": "markdown",
   "metadata": {},
   "source": [
    "## 2 Game"
   ]
  },
  {
   "cell_type": "markdown",
   "metadata": {},
   "source": [
    "### 2-1 Imports"
   ]
  },
  {
   "cell_type": "code",
   "execution_count": null,
   "metadata": {},
   "outputs": [],
   "source": [
    "flappy_bird = MMIO(0x83C20000,0x10000)\n",
    "\n",
    "import sys\n",
    "import time\n",
    "import cv2\n",
    "import random"
   ]
  },
  {
   "cell_type": "markdown",
   "metadata": {},
   "source": [
    "### 2-2 Drawing Functions"
   ]
  },
  {
   "cell_type": "code",
   "execution_count": null,
   "metadata": {},
   "outputs": [],
   "source": [
    "def draw_pipe(frame, pipe_x, hole_1, hole_2, gap, pipe_off):\n",
    "    \n",
    "    # upper pipe 1\n",
    "    cv2.rectangle(frame,(pipe_x+5,hole_1),(pipe_x,-1),(0,0,0),-1)\n",
    "    cv2.rectangle(fram### 1-1 Initialize Importse,(pipe_x+10,hole_1),(pipe_x+5,-1),(133,170,69),-1)\n",
    "    cv2.rectangle(frame,(pipe_x+15,hole_1),(pipe_x+10,-1),(149,183,81),-1)\n",
    "    cv2.rectangle(frame,(pipe_x+20,hole_1),(pipe_x+15,-1),(164,198,72),-1)\n",
    "    cv2.rectangle(frame,(pipe_x+25,hole_1),(pipe_x+20,-1),(181,212,104),-1)\n",
    "    cv2.rectangle(frame,(pipe_x+30,hole_1),(pipe_x+25,-1),(189,230,112),-1)\n",
    "    cv2.rectangle(frame,(pipe_x+35,hole_1),(pipe_x+30,-1),(200,220,130),-1)\n",
    "    cv2.rectangle(frame,(pipe_x+40,hole_1),(pipe_x+35,-1),(189,230,112),-1)\n",
    "    cv2.rectangle(frame,(pipe_x+45,hole_1),(pipe_x+40,-1),(181,212,104),-1)\n",
    "    cv2.rectangle(frame,(pipe_x+50,hole_1),(pipe_x+45,-1),(117,156,88),-1)\n",
    "    cv2.rectangle(frame,(pipe_x+55,hole_1),(pipe_x+50,-1),(84,128,34),-1)\n",
    "    cv2.rectangle(frame,(pipe_x+60,hole_1),(pipe_x+55,-1),(84,128,34),-1)\n",
    "    cv2.rectangle(frame,(pipe_x+65,hole_1),(pipe_x+60,-1),(84,128,34),-1)\n",
    "    cv2.rectangle(frame,(pipe_x+70,hole_1),(pipe_x+65,-1),(0,0,0),-1)\n",
    "    cv2.rectangle(frame,(pipe_x+5,hole_1),(pipe_x+65,hole_1-5),(0,0,0),-1)\n",
    "\n",
    "    # lower pipe 1\n",
    "    cv2.rectangle(frame,(pipe_x+5,hole_1+gap),(pipe_x,721),(0,0,0),-1)\n",
    "    cv2.rectangle(frame,(pipe_x+10,hole_1+gap),(pipe_x+5,721),(133,170,69),-1)\n",
    "    cv2.rectangle(frame,(pipe_x+15,hole_1+gap),(pipe_x+10,721),(149,183,81),-1)\n",
    "    cv2.rectangle(frame,(pipe_x+20,hole_1+gap),(pipe_x+15,721),(164,198,72),-1)\n",
    "    cv2.rectangle(frame,(pipe_x+25,hole_1+gap),(pipe_x+20,721),(181,212,104),-1)\n",
    "    cv2.rectangle(frame,(pipe_x+30,hole_1+gap),(pipe_x+25,721),(189,230,112),-1)\n",
    "    cv2.rectangle(frame,(pipe_x+35,hole_1+gap),(pipe_x+30,721),(200,220,130),-1)\n",
    "    cv2.rectangle(frame,(pipe_x+40,hole_1+gap),(pipe_x+35,721),(189,230,112),-1)\n",
    "    cv2.rectangle(frame,(pipe_x+45,hole_1+gap),(pipe_x+40,721),(181,212,104),-1)\n",
    "    cv2.rectangle(frame,(pipe_x+50,hole_1+gap),(pipe_x+45,721),(117,156,88),-1)\n",
    "    cv2.rectangle(frame,(pipe_x+55,hole_1+gap),(pipe_x+50,721),(84,128,34),-1)\n",
    "    cv2.rectangle(frame,(pipe_x+60,hole_1+gap),(pipe_x+55,721),(84,128,34),-1)\n",
    "    cv2.rectangle(frame,(pipe_x+65,hole_1+gap),(pipe_x+60,721),(84,128,34),-1)\n",
    "    cv2.rectangle(frame,(pipe_x+70,hole_1+gap),(pipe_x+65,721),(0,0,0),-1)\n",
    "    cv2.rectangle(frame,(pipe_x,hole_1+gap),(pipe_x+70,hole_1-5+gap),(0,0,0),-1)\n",
    "\n",
    "    # upper pipe 2\n",
    "    cv2.rectangle(frame,(pipe_x+5+pipe_off,hole_2),(pipe_x+pipe_off,-1),(0,0,0),-1)\n",
    "    cv2.rectangle(frame,(pipe_x+10+pipe_off,hole_2),(pipe_x+5+pipe_off,-1),(133,170,69),-1)\n",
    "    cv2.rectangle(frame,(pipe_x+15+pipe_off,hole_2),(pipe_x+10+pipe_off,-1),(149,183,81),-1)\n",
    "    cv2.rectangle(frame,(pipe_x+20+pipe_off,hole_2),(pipe_x+15+pipe_off,-1),(164,198,72),-1)\n",
    "    cv2.rectangle(frame,(pipe_x+25+pipe_off,hole_2),(pipe_x+20+pipe_off,-1),(181,212,104),-1)\n",
    "    cv2.rectangle(frame,(pipe_x+30+pipe_off,hole_2),(pipe_x+25+pipe_off,-1),(189,230,112),-1)\n",
    "    cv2.rectangle(frame,(pipe_x+35+pipe_off,hole_2),(pipe_x+30+pipe_off,-1),(200,220,130),-1)\n",
    "    cv2.rectangle(frame,(pipe_x+40+pipe_off,hole_2),(pipe_x+35+pipe_off,-1),(189,230,112),-1)\n",
    "    cv2.rectangle(frame,(pipe_x+45+pipe_off,hole_2),(pipe_x+40+pipe_off,-1),(181,212,104),-1)\n",
    "    cv2.rectangle(frame,(pipe_x+50+pipe_off,hole_2),(pipe_x+45+pipe_off,-1),(117,156,88),-1)\n",
    "    cv2.rectangle(frame,(pipe_x+55+pipe_off,hole_2),(pipe_x+50+pipe_off,-1),(84,128,34),-1)\n",
    "    cv2.rectangle(frame,(pipe_x+60+pipe_off,hole_2),(pipe_x+55+pipe_off,-1),(84,128,34),-1)\n",
    "    cv2.rectangle(frame,(pipe_x+65+pipe_off,hole_2),(pipe_x+60+pipe_off,-1),(84,128,34),-1)\n",
    "    cv2.rectangle(frame,(pipe_x+70+pipe_off,hole_2),(pipe_x+65+pipe_off,-1),(0,0,0),-1)\n",
    "    cv2.rectangle(frame,(pipe_x+5+pipe_off,hole_2),(pipe_x+65+pipe_off,hole_2-5),(0,0,0),-1)\n",
    "\n",
    "    # lower pipe 2\n",
    "    cv2.rectangle(frame,(pipe_x+5+pipe_off,hole_2+gap),(pipe_x+pipe_off,721),(0,0,0),-1)\n",
    "    cv2.rectangle(frame,(pipe_x+10+pipe_off,hole_2+gap),(pipe_x+5+pipe_off,721),(133,170,69),-1)\n",
    "    cv2.rectangle(frame,(pipe_x+15+pipe_off,hole_2+gap),(pipe_x+10+pipe_off,721),(149,183,81),-1)\n",
    "    cv2.rectangle(frame,(pipe_x+20+pipe_off,hole_2+gap),(pipe_x+15+pipe_off,721),(164,198,72),-1)\n",
    "    cv2.rectangle(frame,(pipe_x+25+pipe_off,hole_2+gap),(pipe_x+20+pipe_off,721),(181,212,104),-1)\n",
    "    cv2.rectangle(frame,(pipe_x+30+pipe_off,hole_2+gap),(pipe_x+25+pipe_off,721),(189,230,112),-1)\n",
    "    cv2.rectangle(frame,(pipe_x+35+pipe_off,hole_2+gap),(pipe_x+30+pipe_off,721),(200,220,130),-1)\n",
    "    cv2.rectangle(frame,(pipe_x+40+pipe_off,hole_2+gap),(pipe_x+35+pipe_off,721),(189,230,112),-1)\n",
    "    cv2.rectangle(frame,(pipe_x+45+pipe_off,hole_2+gap),(pipe_x+40+pipe_off,721),(181,212,104),-1)\n",
    "    cv2.rectangle(frame,(pipe_x+50+pipe_off,hole_2+gap),(pipe_x+45+pipe_off,721),(117,156,88),-1)\n",
    "    cv2.rectangle(frame,(pipe_x+55+pipe_off,hole_2+gap),(pipe_x+50+pipe_off,721),(84,128,34),-1)\n",
    "    cv2.rectangle(frame,(pipe_x+60+pipe_off,hole_2+gap),(pipe_x+55+pipe_off,721),(84,128,34),-1)\n",
    "    cv2.rectangle(frame,(pipe_x+65+pipe_off,hole_2+gap),(pipe_x+60+pipe_off,721),(84,128,34),-1)\n",
    "    cv2.rectangle(frame,(pipe_x+70+pipe_off,hole_2+gap),(pipe_x+65+pipe_off,721),(0,0,0),-1)\n",
    "    cv2.rectangle(frame,(pipe_x+pipe_off,hole_2+gap),(pipe_x+70+pipe_off,hole_2-5+gap),(0,0,0),-1)\n",
    "    \n",
    "def draw_bird(frame, bird_x, bird_y, wing):\n",
    "\n",
    "    # body\n",
    "    cv2.rectangle(frame,(bird_x,bird_y),(bird_x+30,bird_y+30),(0,0,0),2)\n",
    "    cv2.rectangle(frame,(bird_x+2,bird_y+2),(bird_x+28,bird_y+10),(253,218,141),-1)\n",
    "    cv2.rectangle(frame,(bird_x+2,bird_y+10),(bird_x+28,bird_y+19),(249,184,51),-1)\n",
    "    cv2.rectangle(frame,(bird_x+2,bird_y+19),(bird_x+28,bird_y+28),(211,121,41),-1)\n",
    "\n",
    "    # eye\n",
    "    cv2.rectangle(frame,(bird_x+16,bird_y+2),(bird_x+28,bird_y+12),(255,255,255),-1)\n",
    "    cv2.rectangle(frame,(bird_x+16,bird_y),(bird_x+30,bird_y+14),(0,0,0),2)\n",
    "    cv2.rectangle(frame,(bird_x+23,bird_y+5),(bird_x+27,bird_y+9),(0,0,0),-1)\n",
    "\n",
    "    # mouth\n",
    "    cv2.rectangle(frame,(bird_x+16,bird_y+18),(bird_x+28,bird_y+26),(255,0,0),-1)\n",
    "    cv2.rectangle(frame,(bird_x+16,bird_y+18),(bird_x+30,bird_y+26),(0,0,0),2)\n",
    "    cv2.rectangle(frame,(bird_x+20,bird_y+21),(bird_x+28,bird_y+23),(0,0,0),-1)\n",
    "\n",
    "    #wings\n",
    "    cv2.rectangle(frame,(bird_x+4,bird_y+12+5*(wing-1)),(bird_x+10,bird_y+17+5*(wing-1)),(255,255,255),-1)\n",
    "    cv2.rectangle(frame,(bird_x+4,bird_y+12+5*(wing-1)),(bird_x+10,bird_y+17+5*(wing-1)),(0,0,0),2)"
   ]
  },
  {
   "cell_type": "markdown",
   "metadata": {},
   "source": [
    "### 2-3 Run"
   ]
  },
  {
   "cell_type": "code",
   "execution_count": null,
   "metadata": {},
   "outputs": [],
   "source": [
    "while True:\n",
    "    \n",
    "    #******** INIT PARAMETERS ********\n",
    "    font = cv2.FONT_HERSHEY_SIMPLEX\n",
    "    fontScale = 2\n",
    "    fontColor = (255,255,255)\n",
    "    lineType = 2\n",
    "    pos = 940\n",
    "\n",
    "    flap = False\n",
    "    rise = False\n",
    "\n",
    "    height = 1\n",
    "    previous_height = height\n",
    "\n",
    "    color_tresh = 27\n",
    "    heigth_tresh = 10\n",
    "\n",
    "    bird = 600\n",
    "    speed = -5\n",
    "\n",
    "    pipe = 3000\n",
    "    \n",
    "    hole_1 = random.randint(5,30)*10\n",
    "    hole_2 = random.randint(5,30)*10\n",
    "\n",
    "    gap = 300\n",
    "    pipe_h = 70\n",
    "\n",
    "    score = 0\n",
    "\n",
    "    frames = 0\n",
    "\n",
    "    gameover = False\n",
    "    \n",
    "    #******** WAIT FOR FLAP ********\n",
    "    while not Flap:\n",
    "        in_frame = hdmi_in.readframe()\n",
    "        flappy_bird.write(0x10, in_frame.physical_address)\n",
    "        flappy_bird.write(0x20, color_tresh)    \n",
    "        flappy_bird.write(0x00, 0x01)             # ap_start triggering\n",
    "        while (flappy_bird.read(0) & 0x4) == 0:   # ap_done checking\n",
    "            #CONSIDER DOING OPERATIONS IN THAT LOOP WHILE WAITING\n",
    "            pass\n",
    "        height = flappy_bird.read(0x18)\n",
    "        if (previous_height - height >= heigth_tresh):\n",
    "            rise = True\n",
    "\n",
    "        if (height - previous_height >= heigth_tresh) & rise:\n",
    "            rise = False\n",
    "            flap = True\n",
    "        previous_height = height\n",
    "        wing += 1\n",
    "        wing = wing%21\n",
    "        \n",
    "        bird += speed\n",
    "        if bird < 500 or bird > 700:\n",
    "            speed = -speed\n",
    "        cv2.rectangle(in_frame,(1280,721),(640, 650),(222,216,149),-1)\n",
    "        cv2.rectangle(in_frame,(1280,650),(640, 625),(156,230,89),-1)\n",
    "        cv2.rectangle(in_frame,(1280,625),(640, 622),(0,0,0),-1)\n",
    "        draw_bird(in_frame, 800, bird, (int)(wing/7))\n",
    "        cv2.putText(in_frame,'Flap To Start', (800, 300), font, fontScale, fontColor,lineType)\n",
    "        hdmi_out.writeframe(in_frame)\n",
    "    \n",
    "    speed = -1\n",
    "    flap = False\n",
    "    rise = False\n",
    "\n",
    "    #******** START GAME ********\n",
    "    start = time.time()\n",
    "\n",
    "    while not gameover:\n",
    "\n",
    "        sub_start = time.time()\n",
    "        \n",
    "        frames += 1\n",
    "        \n",
    "        in_frame = hdmi_in.readframe()\n",
    "        \n",
    "        flappy_bird.write(0x10, in_frame.physical_address)\n",
    "        flappy_bird.write(0x20, color_tresh)    \n",
    "        flappy_bird.write(0x00, 0x01)             # ap_start triggering\n",
    "        while (flappy_bird.read(0) & 0x4) == 0:   # ap_done checking\n",
    "            pass\n",
    "        height = flappy_bird.read(0x18)\n",
    "\n",
    "        \n",
    "        if (previous_height - height >= heigth_tresh):\n",
    "            rise = True\n",
    "\n",
    "        if (height - previous_height >= heigth_tresh) & rise:\n",
    "            rise = False\n",
    "            flap = True\n",
    "\n",
    "        previous_height = height\n",
    "\n",
    "        speed -= 3\n",
    "        if flap:\n",
    "            speed = 23\n",
    "            flap = False\n",
    "\n",
    "        wing += 1\n",
    "        wing = wing%21\n",
    "       \n",
    "        bird -= speed\n",
    "        bird = min(bird, 590)\n",
    "\n",
    "        pipe = pipe - 10\n",
    "\n",
    "        if pipe < 640 + pipe_h:\n",
    "            pipe = 1020\n",
    "            hole_1 = hole_2\n",
    "            hole_2 = random.randint(5,25)*10\n",
    "            score += 1\n",
    "            pos = 940 - (len(str(score))-2)*21\n",
    "\n",
    "        draw_pipe(in_frame, pipe, hole_1, hole_2, gap, 320)\n",
    "        cv2.rectangle(in_frame,(1280,721),(640, 650),(222,216,149),-1)\n",
    "        cv2.rectangle(in_frame,(1280,650),(640, 625),(156,230,89),-1)\n",
    "        cv2.rectangle(in_frame,(1280,625),(640, 622),(0,0,0),-1)\n",
    "        draw_bird(in_frame, 800, bird, (int)(wing/7))\n",
    "\n",
    "        if (bird < hole_1 or bird > hole_1 + gap - 30) and (pipe < 830 and pipe > 800 - pipe_h):\n",
    "            gameover = True\n",
    "            cv2.putText(in_frame,'Game Over', (800, 300), font, fontScale, fontColor,lineType)\n",
    "\n",
    "        cv2.putText(in_frame,f\"{score}\", (pos,100), font, fontScale, fontColor,lineType)\n",
    "        cv2.putText(in_frame,f\"{(int)(1/(time.time()-substart))} fps\", (pos,200), font, fontScale, fontColor,lineType)\n",
    "\n",
    "        hdmi_out.writeframe(in_frame)\n",
    "\n",
    "\n",
    "    end = time.time()\n",
    "\n",
    "    print(f\"{frames} frames took {end-start} seconds at {frames/(end-start)} fps\")\n",
    "    \n",
    "    #******** GAME ENDED, DISPLAY FOR 4 SECONDS ********\n",
    "    \n",
    "    time_tresh = time.time()+4\n",
    "    \n",
    "    while time.time() < time_tresh:\n",
    "        in_frame = hdmi_in.readframe()\n",
    "        flappy_bird.write(0x10, in_frame.physical_address)\n",
    "        flappy_bird.write(0x20, color_tresh)    \n",
    "        flappy_bird.write(0x00, 0x01)             # ap_start triggering\n",
    "        while (flappy_bird.read(0) & 0x4) == 0:   # ap_done checking\n",
    "            pass\n",
    "        draw_pipe(in_frame, pipe, hole_1, hole_2, gap, 320)\n",
    "        cv2.rectangle(in_frame,(1280,721),(640, 650),(222,216,149),-1)\n",
    "        cv2.rectangle(in_frame,(1280,650),(640, 625),(156,230,89),-1)\n",
    "        cv2.rectangle(in_frame,(1280,625),(640, 622),(0,0,0),-1)\n",
    "        draw_bird(in_frame, 800, bird, 1) \n",
    "        cv2.putText(in_frame,'Game Over', (800, 300), font, fontScale, fontColor,lineType)\n",
    "        hdmi_out.writeframe(in_frame)\n"
   ]
  },
  {
   "cell_type": "code",
   "execution_count": null,
   "metadata": {},
   "outputs": [],
   "source": [
    "print('Done?')"
   ]
  },
  {
   "cell_type": "markdown",
   "metadata": {},
   "source": [
    "## 3 Shutdown"
   ]
  },
  {
   "cell_type": "markdown",
   "metadata": {},
   "source": [
    "### 3-1 Close HDMI"
   ]
  },
  {
   "cell_type": "code",
   "execution_count": null,
   "metadata": {},
   "outputs": [],
   "source": [
    "hdmi_out.close()\n",
    "hdmi_in.close()"
   ]
  }
 ],
 "metadata": {
  "kernelspec": {
   "display_name": "Python 3",
   "language": "python",
   "name": "python3"
  },
  "language_info": {
   "codemirror_mode": {
    "name": "ipython",
    "version": 3
   },
   "file_extension": ".py",
   "mimetype": "text/x-python",
   "name": "python",
   "nbconvert_exporter": "python",
   "pygments_lexer": "ipython3",
   "version": "3.6.5"
  }
 },
 "nbformat": 4,
 "nbformat_minor": 2
}
